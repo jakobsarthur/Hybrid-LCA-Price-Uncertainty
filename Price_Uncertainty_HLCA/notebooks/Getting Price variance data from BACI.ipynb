{
 "cells": [
  {
   "cell_type": "markdown",
   "metadata": {},
   "source": [
    "## Match BACI trade flows to ecoinvent processes"
   ]
  },
  {
   "cell_type": "code",
   "execution_count": null,
   "metadata": {},
   "outputs": [],
   "source": [
    "import pandas as pd\n",
    "import numpy as np\n",
    "import os\n",
    "import sys\n",
    "# your path to pylacio\n",
    "sys.path.append('/home/jakobs/Documents/IndEcol/OASES/pylcaio/src/')\n",
    "import pylcaio\n",
    "sys.path.append(os.path.realpath('../'))\n",
    "import match_BACI_price_data_to_ecoinvent\n",
    "import make_price_df\n"
   ]
  },
  {
   "cell_type": "markdown",
   "metadata": {},
   "source": [
    "First we will match Baci trade flows to ecoinvent processes using the two mapping dictionaries (region and commodity). "
   ]
  },
  {
   "cell_type": "code",
   "execution_count": null,
   "metadata": {},
   "outputs": [],
   "source": [
    "# For this we will need the meta data on ecoinvent processes which we get from the output of pylcaio\n",
    "your_path_to_hybrid_db = '/home/jakobs/Documents/IndEcol/OASES/pylcaio/src/Databases/ecoinvent3.5_exiobase3_2012/hybrid_system_STAM.pickle'\n",
    "hybrid_db = pylcaio.Analysis(your_path_to_hybrid_db)\n",
    "PRO = pd.DataFrame.from_dict(hybrid_db.PRO_f)\n",
    "\n",
    "#Let's see what's inside\n",
    "PRO\n"
   ]
  },
  {
   "cell_type": "markdown",
   "metadata": {},
   "source": [
    "The matching may take a while (up to a few hours depending on your machine) You can check the Ray dashboard to see your cpu load. Every 100 processes you it will print its progress."
   ]
  },
  {
   "cell_type": "code",
   "execution_count": null,
   "metadata": {},
   "outputs": [],
   "source": [
    "USD_per_EURO = 1.2848  # 2012 EUROSTAT annual average \n",
    "# (note that EUROstat gives the USD per EURO rate, the dollar price will be divided by this number \n",
    "# to obtain the price in EURO's)\n",
    "your_path_to_baci_data = '/home/jakobs/Documents/IndEcol/Data/BACI/BACI_HS12_V202001/BACI_HS12_Y2012_V202001.csv'\n",
    "directory_to_save_price_data = 'directory_to_save_price_data_for_ei_processes/'\n",
    "mapping_data_dir = 'mapping_data/'\n",
    "\n",
    "# For some reason Ray has a problem with the system paths and does not \n",
    "# find the match_BACI_price_data_to_ecoinvent module so change paths now and then later change back\n",
    "# !Note that this has an impact on the paths above if relative paths were given!\n",
    "cwd = os.getcwd()\n",
    "os.chdir('../')\n",
    "match_BACI_price_data_to_ecoinvent.Match_BACI_data_to_ecoinvent(PRO=PRO, path_to_BACI_data=your_path_to_baci_data,\n",
    "                                      outputDir=directory_to_save_price_data,\n",
    "                                      USD_EURO_exr=USD_per_EURO, mapping_data_dir=mapping_data_dir)\n",
    "os.chdir(cwd)"
   ]
  },
  {
   "cell_type": "markdown",
   "metadata": {},
   "source": [
    "### Creating a dataframe with all price distributions. \n",
    "\n",
    "This will read in the BACI price distributions generated above. Price distributions of processes for which BACI data is not available will be modelled as a lognormal distribution with a mean at the ecoinvent price and a shape paramter based on proxydata. There are deafult parameters from proxy data. See DOI: for the proxy data used."
   ]
  },
  {
   "cell_type": "code",
   "execution_count": null,
   "metadata": {},
   "outputs": [],
   "source": [
    "price_data_file_name = 'Price_data_ei_processes_BACI_2012.ftr'\n",
    "price_data_output_dir = '../directory_to_save_price_data_feather_file/'\n",
    "make_price_df.make_price_df(PRO=PRO,\n",
    "                            price_data_dir=directory_to_save_price_data,\n",
    "                            hybridized_processes=hybrid_db.hybridized_processes,\n",
    "                            outputFileName=price_data_file_name,\n",
    "                            outputDir=price_data_output_dir)"
   ]
  },
  {
   "cell_type": "markdown",
   "metadata": {},
   "source": [
    "Now the above feather file with price data can be used. See jupyter notebook \"Using hybrid database with BACI price data\" on how to use it in a MC analysis of uncertainty of a hybrid LCA carbon footprint due to price variance. "
   ]
  },
  {
   "cell_type": "code",
   "execution_count": null,
   "metadata": {},
   "outputs": [],
   "source": []
  }
 ],
 "metadata": {
  "kernelspec": {
   "display_name": "Python [conda env:pylcaio_paradiso]",
   "language": "python",
   "name": "conda-env-pylcaio_paradiso-py"
  },
  "language_info": {
   "codemirror_mode": {
    "name": "ipython",
    "version": 3
   },
   "file_extension": ".py",
   "mimetype": "text/x-python",
   "name": "python",
   "nbconvert_exporter": "python",
   "pygments_lexer": "ipython3",
   "version": "3.7.3"
  }
 },
 "nbformat": 4,
 "nbformat_minor": 4
}
