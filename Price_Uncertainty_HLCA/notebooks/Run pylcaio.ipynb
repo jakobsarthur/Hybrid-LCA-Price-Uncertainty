{
 "cells": [
  {
   "cell_type": "code",
   "execution_count": 1,
   "metadata": {},
   "outputs": [],
   "source": [
    "import pandas as pd\n",
    "import numpy as np\n",
    "import sys\n",
    "import gzip\n",
    "import pickle\n",
    "import pandas as pd\n",
    "\n",
    "from importlib import reload\n",
    "\n",
    "#provide the paths to the packages ecospold2matrix, pymrio and pylcaio\n",
    "sys.path.append('/home/jakobs/Documents/IndEcol/OASES/ecospold2matrix/')\n",
    "sys.path.append('/home/jakobs/Documents/IndEcol/OASES/pymrio/')\n",
    "sys.path.append('/home/jakobs/Documents/IndEcol/OASES/pylcaio/src/')\n",
    "import ecospold2matrix as e2m\n",
    "import pymrio\n",
    "import pylcaio\n",
    "\n"
   ]
  },
  {
   "cell_type": "markdown",
   "metadata": {},
   "source": [
    "## Prepare Ecoinvent data with ecospold2matrix"
   ]
  },
  {
   "cell_type": "code",
   "execution_count": 2,
   "metadata": {
    "scrolled": true
   },
   "outputs": [
    {
     "name": "stderr",
     "output_type": "stream",
     "text": [
      "2020-12-01 11:19:33,018 - ecoinvent_35_cutoff - INFO - Ecospold2Matrix Processing\n",
      "2020-12-01 11:19:33,032 - ecoinvent_35_cutoff - INFO - Current git commit: 5e2fd295217611ce579ea47865d975d52d229058\n",
      "2020-12-01 11:19:33,033 - ecoinvent_35_cutoff - INFO - Project name: ecoinvent_35_cutoff\n",
      "2020-12-01 11:19:33,034 - ecoinvent_35_cutoff - INFO - Unit process and Master data directory: /home/jakobs/Documents/IndEcol/Data/ecoinvent/ecoinvent 3.5_cutoff_ecoSpold02/\n",
      "2020-12-01 11:19:33,035 - ecoinvent_35_cutoff - INFO - Data saved in: /home/jakobs/Documents/IndEcol/Data/ecospold2matrix_matrices\n",
      "2020-12-01 11:19:33,036 - ecoinvent_35_cutoff - INFO - Sign conventions changed to make waste flows positive\n",
      "2020-12-01 11:19:33,037 - ecoinvent_35_cutoff - INFO - Replace Not-a-Number instances with 0.0 in all matrices\n",
      "2020-12-01 11:19:33,038 - ecoinvent_35_cutoff - INFO - Pickle intermediate results to files\n",
      "2020-12-01 11:19:33,038 - ecoinvent_35_cutoff - INFO - Order processes based on: ISIC, activityName\n",
      "2020-12-01 11:19:33,039 - ecoinvent_35_cutoff - INFO - Order elementary exchanges based on: comp, name, subcomp\n",
      "2020-12-01 11:19:33,174 - ecoinvent_35_cutoff - WARNING - obs2char_subcomps constraints temporarily relaxed because not full recipe parsed\n",
      "2020-12-01 11:19:33,362 - ecoinvent_35_cutoff - INFO - Products extracted from IntermediateExchanges.xml with SHA-1 of b2c87a5bf5982a60515a6e1160e43c620a218369\n",
      "2020-12-01 11:20:09,243 - ecoinvent_35_cutoff - WARNING - Removed 1148 duplicate rows from activity_list, see duplicate_activity_list.csv.\n",
      "2020-12-01 11:20:09,401 - ecoinvent_35_cutoff - INFO - Activities extracted from ActivityIndex.xml with SHA-1 of 3ac94e9826a9a031ff2e0bfbdceeecaeb72a9117\n",
      "2020-12-01 11:20:09,447 - ecoinvent_35_cutoff - INFO - Processing 16022 files in /home/jakobs/Documents/IndEcol/Data/ecoinvent/ecoinvent 3.5_cutoff_ecoSpold02/datasets\n",
      "2020-12-01 11:21:46,911 - ecoinvent_35_cutoff - INFO - Flows saved in /home/jakobs/Documents/IndEcol/Data/ecoinvent/ecoinvent 3.5_cutoff_ecoSpold02/flows.pickle with SHA-1 of f4e9d03ccf642f3d910956e1009be32e6ed46e9f\n",
      "2020-12-01 11:21:47,083 - ecoinvent_35_cutoff - INFO - Processing 16022 files - this may take a while ...\n",
      "2020-12-01 11:23:16,961 - ecoinvent_35_cutoff - INFO - Elementary flows extracted from ElementaryExchanges.xml with SHA-1 of 0caa74a71870c1432557a91516a6da63d319b594\n",
      "2020-12-01 11:23:17,042 - ecoinvent_35_cutoff - INFO - Labels saved in /home/jakobs/Documents/IndEcol/Data/ecoinvent/ecoinvent 3.5_cutoff_ecoSpold02/rawlabels.pickle with SHA-1 of 084bcdcad985eab2459f39cb5adad549687968d4\n",
      "2020-12-01 11:23:17,052 - ecoinvent_35_cutoff - INFO - OK.   No untraceable flows.\n",
      "2020-12-01 11:23:17,352 - ecoinvent_35_cutoff - INFO - OK. Source activities seem in order. Each product traceable to an activity that actually does produce or distribute this product.\n",
      "2020-12-01 11:23:18,134 - ecoinvent_35_cutoff - INFO - Starting to assemble the matrices\n",
      "2020-12-01 11:23:21,379 - ecoinvent_35_cutoff - INFO - fillna\n",
      "2020-12-01 11:23:55,810 - ecoinvent_35_cutoff - INFO - Starting normalizing matrices\n",
      "2020-12-01 11:24:51,992 - ecoinvent_35_cutoff - INFO - Characterisation file seems to be ecoinvent LCIA implementation. Will apply simple name matching\n"
     ]
    },
    {
     "name": "stdout",
     "output_type": "stream",
     "text": [
      "starting characterisation\n"
     ]
    },
    {
     "name": "stderr",
     "output_type": "stream",
     "text": [
      "2020-12-01 11:25:31,298 - ecoinvent_35_cutoff - INFO - Will use column 7, named CF_35, for characterisation factors\n",
      "2020-12-01 11:25:31,299 - ecoinvent_35_cutoff - INFO - Starting characterisation matching\n",
      "2020-12-01 11:25:39,810 - ecoinvent_35_cutoff - INFO - Characterisation matching done. C matrix created\n",
      "2020-12-01 11:25:39,885 - ecoinvent_35_cutoff - INFO - Starting to export to file\n",
      "2020-12-01 11:25:39,886 - ecoinvent_35_cutoff - INFO - about to write to file\n",
      "2020-12-01 11:26:45,982 - ecoinvent_35_cutoff - INFO - Final, symmetric, normalized matrices saved in /home/jakobs/Documents/IndEcol/Data/ecospold2matrix_matrices/ecoinvent_35_cutoffPandas_symmNorm.gz.pickle with SHA-1 of cecb21df9cd4c91641be7c11d2195b2429f93ac5\n",
      "2020-12-01 11:26:45,983 - ecoinvent_35_cutoff - INFO - Done running ecospold2matrix.ecospold_to_Leontief\n"
     ]
    },
    {
     "name": "stdout",
     "output_type": "stream",
     "text": [
      "CPU times: user 7min 1s, sys: 7.98 s, total: 7min 9s\n",
      "Wall time: 7min 12s\n"
     ]
    }
   ],
   "source": [
    "%%time\n",
    "\n",
    "#run ecospold2matrix\n",
    "ecospold_dir = '/home/jakobs/Documents/IndEcol/Data/ecoinvent/ecoinvent 3.5_cutoff_ecoSpold02/'\n",
    "project_name = 'ecoinvent_35_cutoff'\n",
    "out_dir = '/home/jakobs/Documents/IndEcol/Data/ecospold2matrix_matrices/'\n",
    "\n",
    "parser = e2m.Ecospold2Matrix(ecospold_dir, project_name, out_dir, positive_waste=True, nan2null=True,\n",
    "                            characterisation_file=\n",
    "        '/home/jakobs/data/ecoinvent/ecoinvent 3.5_LCIA_implementation/LCIA_implementation_3.5.xlsx', )\n",
    "parser.ecospold_to_Leontief(fileformats='Pandas',with_absolute_flows=False)"
   ]
  },
  {
   "cell_type": "markdown",
   "metadata": {},
   "source": [
    "## Load ecoinvent pickle files"
   ]
  },
  {
   "cell_type": "code",
   "execution_count": 2,
   "metadata": {},
   "outputs": [
    {
     "name": "stdout",
     "output_type": "stream",
     "text": [
      "CPU times: user 7.63 s, sys: 423 ms, total: 8.05 s\n",
      "Wall time: 8.07 s\n"
     ]
    }
   ],
   "source": [
    "%%time\n",
    "with gzip.open('/home/jakobs/Documents/IndEcol/Data/ecospold2matrix_matrices/ecoinvent_35_cutoffPandas_symmNorm.gz.pickle','rb') as f:\n",
    "    ecoinvent = pd.read_pickle(f)"
   ]
  },
  {
   "cell_type": "markdown",
   "metadata": {},
   "source": [
    "### Imput missing ecoinvent price data\n",
    "Ecospold2matrix seems to have a bug and not extract all price data. I do not have the time to fix this at the moment. However the datasheets in filter.xlsx contains the actual ecoinvent prices for the processes so I will just manually imput them into the PRO dataframe"
   ]
  },
  {
   "cell_type": "code",
   "execution_count": 3,
   "metadata": {},
   "outputs": [
    {
     "name": "stdout",
     "output_type": "stream",
     "text": [
      "Hybridized\n",
      "Market\n",
      "Not commercialized\n",
      "Poor quality\n",
      "Empty processes\n",
      "Uncovered geography\n"
     ]
    }
   ],
   "source": [
    "file =  pd.ExcelFile('/home/jakobs/Documents/IndEcol/OASES/pylcaio/src/Data/eco3.5_exio3/Filter.xlsx')\n",
    "sheetnames = file.sheet_names\n",
    "\n",
    "for sheet_name in sheetnames:\n",
    "    if not sheet_name == 'No price':\n",
    "        print(sheet_name)\n",
    "        sheet = file.parse(sheet_name, index_col=0)\n",
    "        #find UUID of those processes that do not have a price (NaN)\n",
    "        indices = list(set(ecoinvent['PRO'].loc[ecoinvent['PRO'].price.isnull()].index.tolist()).intersection(\n",
    "                  sheet.index.tolist()))\n",
    "        ecoinvent['PRO'].loc[indices, 'price'] = sheet.loc[indices, 'Price']\n",
    "        ecoinvent['PRO'].loc[indices, 'priceUnit'] = 'EUR2005'"
   ]
  },
  {
   "cell_type": "markdown",
   "metadata": {},
   "source": [
    "## Load Exiobase into a Dataframe with pymrio"
   ]
  },
  {
   "cell_type": "code",
   "execution_count": 4,
   "metadata": {},
   "outputs": [],
   "source": [
    "#EXIOBASE 3_8 is not good! A matrix for 2014 contains many negatives!"
   ]
  },
  {
   "cell_type": "code",
   "execution_count": 4,
   "metadata": {},
   "outputs": [
    {
     "name": "stdout",
     "output_type": "stream",
     "text": [
      "CPU times: user 32.1 s, sys: 648 ms, total: 32.7 s\n",
      "Wall time: 32.7 s\n"
     ]
    }
   ],
   "source": [
    "%%time\n",
    "# io = pymrio.parse_exiobase3('/home/jakobs/data/EXIOBASE/exiobase3_6/IOT_2014_pxp/')\n",
    "io = pymrio.parse_exiobase3('/home/jakobs/data/EXIOBASE/exiobase3_6/IOT_2012_pxp/')"
   ]
  },
  {
   "cell_type": "code",
   "execution_count": 5,
   "metadata": {},
   "outputs": [
    {
     "data": {
      "text/plain": [
       "False"
      ]
     },
     "execution_count": 5,
     "metadata": {},
     "output_type": "execute_result"
    }
   ],
   "source": [
    "(io.A <0).any().any()"
   ]
  },
  {
   "cell_type": "markdown",
   "metadata": {},
   "source": [
    "## Read in data with pylcaio"
   ]
  },
  {
   "cell_type": "code",
   "execution_count": 5,
   "metadata": {},
   "outputs": [],
   "source": [
    "# reload(pylcaio)"
   ]
  },
  {
   "cell_type": "code",
   "execution_count": 5,
   "metadata": {},
   "outputs": [
    {
     "name": "stdout",
     "output_type": "stream",
     "text": [
      "CPU times: user 10.7 ms, sys: 79 µs, total: 10.8 ms\n",
      "Wall time: 5.39 ms\n"
     ]
    }
   ],
   "source": [
    "%%time\n",
    "database_loader = pylcaio.DatabaseLoader(ecoinvent, io, 'ecoinvent3.5', 'exiobase3')"
   ]
  },
  {
   "cell_type": "code",
   "execution_count": 6,
   "metadata": {},
   "outputs": [
    {
     "name": "stdout",
     "output_type": "stream",
     "text": [
      "No path for the capital folder was provided. Capitals will not be endogenized\n",
      "CPU times: user 2min 38s, sys: 4.65 s, total: 2min 43s\n",
      "Wall time: 1min 39s\n"
     ]
    }
   ],
   "source": [
    "%%time\n",
    "lcaio_object = database_loader.combine_ecoinvent_exiobase(complete_extensions=False, \n",
    "                                        impact_world=False, regionalized=False)"
   ]
  },
  {
   "cell_type": "code",
   "execution_count": 7,
   "metadata": {
    "scrolled": true
   },
   "outputs": [
    {
     "name": "stdout",
     "output_type": "stream",
     "text": [
      "CPU times: user 12min 32s, sys: 1min 4s, total: 13min 37s\n",
      "Wall time: 8min 24s\n"
     ]
    }
   ],
   "source": [
    "%%time\n",
    "lcaio_object.hybridize(price_neutral_cut_off_matrix=True, capitals=False)"
   ]
  },
  {
   "cell_type": "code",
   "execution_count": 8,
   "metadata": {},
   "outputs": [
    {
     "name": "stdout",
     "output_type": "stream",
     "text": [
      "CPU times: user 6min 7s, sys: 9.22 s, total: 6min 17s\n",
      "Wall time: 4min 22s\n"
     ]
    }
   ],
   "source": [
    "%%time\n",
    "lcaio_object.correct_double_counting('STAM', capitals=False)"
   ]
  },
  {
   "cell_type": "code",
   "execution_count": 8,
   "metadata": {},
   "outputs": [
    {
     "name": "stdout",
     "output_type": "stream",
     "text": [
      "CPU times: user 2min 16s, sys: 4.56 s, total: 2min 20s\n",
      "Wall time: 1min 23s\n"
     ]
    }
   ],
   "source": [
    "%%time\n",
    "lcaio_object.correct_double_counting('binary', capitals=False)"
   ]
  },
  {
   "cell_type": "code",
   "execution_count": 9,
   "metadata": {},
   "outputs": [
    {
     "name": "stdout",
     "output_type": "stream",
     "text": [
      "CPU times: user 24.4 s, sys: 288 ms, total: 24.7 s\n",
      "Wall time: 24.6 s\n"
     ]
    }
   ],
   "source": [
    "%%time\n",
    "lcaio_object.save_system(format='pickle')"
   ]
  },
  {
   "cell_type": "code",
   "execution_count": null,
   "metadata": {},
   "outputs": [],
   "source": []
  }
 ],
 "metadata": {
  "kernelspec": {
   "display_name": "Python [conda env:pylcaio_paradiso]",
   "language": "python",
   "name": "conda-env-pylcaio_paradiso-py"
  },
  "language_info": {
   "codemirror_mode": {
    "name": "ipython",
    "version": 3
   },
   "file_extension": ".py",
   "mimetype": "text/x-python",
   "name": "python",
   "nbconvert_exporter": "python",
   "pygments_lexer": "ipython3",
   "version": "3.7.3"
  }
 },
 "nbformat": 4,
 "nbformat_minor": 2
}
